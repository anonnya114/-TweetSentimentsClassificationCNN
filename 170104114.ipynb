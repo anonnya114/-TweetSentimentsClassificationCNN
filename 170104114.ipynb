{
  "nbformat": 4,
  "nbformat_minor": 0,
  "metadata": {
    "colab": {
      "name": "170104114.ipynb",
      "provenance": [],
      "collapsed_sections": []
    },
    "kernelspec": {
      "name": "python3",
      "display_name": "Python 3"
    },
    "language_info": {
      "name": "python"
    }
  },
  "cells": [
    {
      "cell_type": "code",
      "metadata": {
        "colab": {
          "base_uri": "https://localhost:8080/"
        },
        "id": "J5g_8HyQhvBl",
        "outputId": "cb1d22e9-5c8b-44c5-85fa-019c61b3cece"
      },
      "source": [
        "from google.colab import drive\n",
        "drive.mount('/content/drive')"
      ],
      "execution_count": null,
      "outputs": [
        {
          "output_type": "stream",
          "name": "stdout",
          "text": [
            "Mounted at /content/drive\n"
          ]
        }
      ]
    },
    {
      "cell_type": "code",
      "metadata": {
        "colab": {
          "base_uri": "https://localhost:8080/",
          "height": 220
        },
        "id": "25bbERuOiQWC",
        "outputId": "fd72395d-54d6-421e-c401-0e65b1e7f7c3"
      },
      "source": [
        "import io\n",
        "import pandas as pd\n",
        "import numpy as np\n",
        "df = pd.read_csv(\"/content/drive/MyDrive/Colab Notebooks/Soft Computing/assignment3/Dataset 1.csv\", encoding=\"ISO-8859-1\")\n",
        "print(len(df))\n",
        "df.head()"
      ],
      "execution_count": null,
      "outputs": [
        {
          "output_type": "stream",
          "name": "stdout",
          "text": [
            "10314\n"
          ]
        },
        {
          "output_type": "execute_result",
          "data": {
            "text/html": [
              "<div>\n",
              "<style scoped>\n",
              "    .dataframe tbody tr th:only-of-type {\n",
              "        vertical-align: middle;\n",
              "    }\n",
              "\n",
              "    .dataframe tbody tr th {\n",
              "        vertical-align: top;\n",
              "    }\n",
              "\n",
              "    .dataframe thead th {\n",
              "        text-align: right;\n",
              "    }\n",
              "</style>\n",
              "<table border=\"1\" class=\"dataframe\">\n",
              "  <thead>\n",
              "    <tr style=\"text-align: right;\">\n",
              "      <th></th>\n",
              "      <th>message</th>\n",
              "      <th>label</th>\n",
              "    </tr>\n",
              "  </thead>\n",
              "  <tbody>\n",
              "    <tr>\n",
              "      <th>0</th>\n",
              "      <td>just had a real good moment. i missssssssss hi...</td>\n",
              "      <td>0</td>\n",
              "    </tr>\n",
              "    <tr>\n",
              "      <th>1</th>\n",
              "      <td>is reading manga  http://plurk.com/p/mzp1e</td>\n",
              "      <td>0</td>\n",
              "    </tr>\n",
              "    <tr>\n",
              "      <th>2</th>\n",
              "      <td>@comeagainjen http://twitpic.com/2y2lx - http:...</td>\n",
              "      <td>0</td>\n",
              "    </tr>\n",
              "    <tr>\n",
              "      <th>3</th>\n",
              "      <td>@lapcat Need to send 'em to my accountant tomo...</td>\n",
              "      <td>0</td>\n",
              "    </tr>\n",
              "    <tr>\n",
              "      <th>4</th>\n",
              "      <td>ADD ME ON MYSPACE!!!  myspace.com/LookThunder</td>\n",
              "      <td>0</td>\n",
              "    </tr>\n",
              "  </tbody>\n",
              "</table>\n",
              "</div>"
            ],
            "text/plain": [
              "                                             message  label\n",
              "0  just had a real good moment. i missssssssss hi...      0\n",
              "1         is reading manga  http://plurk.com/p/mzp1e      0\n",
              "2  @comeagainjen http://twitpic.com/2y2lx - http:...      0\n",
              "3  @lapcat Need to send 'em to my accountant tomo...      0\n",
              "4      ADD ME ON MYSPACE!!!  myspace.com/LookThunder      0"
            ]
          },
          "metadata": {},
          "execution_count": 2
        }
      ]
    },
    {
      "cell_type": "code",
      "metadata": {
        "colab": {
          "base_uri": "https://localhost:8080/"
        },
        "id": "34SRT40pntO9",
        "outputId": "edfca929-e309-42ef-ef73-721160f62095"
      },
      "source": [
        "df['label'].unique()"
      ],
      "execution_count": null,
      "outputs": [
        {
          "output_type": "execute_result",
          "data": {
            "text/plain": [
              "array([0, 1])"
            ]
          },
          "metadata": {},
          "execution_count": 168
        }
      ]
    },
    {
      "cell_type": "code",
      "metadata": {
        "id": "P7f4UR9fBTAW"
      },
      "source": [
        "import re\n",
        "\n",
        "def remove_url(text): \n",
        "    url_pattern  = re.compile('http[s]?://(?:[a-zA-Z]|[0-9]|[$-_@.&+]|[!*\\(\\),]|(?:%[0-9a-fA-F][0-9a-fA-F]))+')\n",
        "    return url_pattern.sub(r'', text)\n",
        " # converting return value from list to string\n"
      ],
      "execution_count": null,
      "outputs": []
    },
    {
      "cell_type": "code",
      "metadata": {
        "colab": {
          "base_uri": "https://localhost:8080/"
        },
        "id": "OloEqlp2m3mc",
        "outputId": "f39f321a-153b-4210-fcae-707d8a4e8728"
      },
      "source": [
        "import nltk\n",
        "import string\n",
        "from nltk.corpus import stopwords\n",
        "from nltk.stem import WordNetLemmatizer\n",
        "\n",
        "nltk.download('wordnet')\n",
        "lemmatizer = WordNetLemmatizer()\n",
        "nltk.download('punkt')\n",
        "puncset = list(string.punctuation)"
      ],
      "execution_count": null,
      "outputs": [
        {
          "output_type": "stream",
          "name": "stdout",
          "text": [
            "[nltk_data] Downloading package wordnet to /root/nltk_data...\n",
            "[nltk_data]   Unzipping corpora/wordnet.zip.\n",
            "[nltk_data] Downloading package punkt to /root/nltk_data...\n",
            "[nltk_data]   Unzipping tokenizers/punkt.zip.\n"
          ]
        }
      ]
    },
    {
      "cell_type": "code",
      "metadata": {
        "id": "42BxuH1uJpDh"
      },
      "source": [
        "def preprocess(text):\n",
        "  sentence = [lemmatizer.lemmatize(i, pos='v') for i in text.split() if i not in puncset]\n",
        "  sentence = [w for w in sentence if w.isalpha()]\n",
        "  return ' '.join(sentence)"
      ],
      "execution_count": null,
      "outputs": []
    },
    {
      "cell_type": "code",
      "metadata": {
        "id": "JCDnF-LoJ15I"
      },
      "source": [
        "df['message'] = df['message'].apply(remove_url)\n",
        "df['message'] = df.message.map(lambda x: preprocess(x))"
      ],
      "execution_count": null,
      "outputs": []
    },
    {
      "cell_type": "code",
      "metadata": {
        "colab": {
          "base_uri": "https://localhost:8080/",
          "height": 417
        },
        "id": "XTU3634Bugqs",
        "outputId": "70414878-1577-4de8-c845-ab47d8141283"
      },
      "source": [
        "df"
      ],
      "execution_count": null,
      "outputs": [
        {
          "output_type": "execute_result",
          "data": {
            "text/html": [
              "<div>\n",
              "<style scoped>\n",
              "    .dataframe tbody tr th:only-of-type {\n",
              "        vertical-align: middle;\n",
              "    }\n",
              "\n",
              "    .dataframe tbody tr th {\n",
              "        vertical-align: top;\n",
              "    }\n",
              "\n",
              "    .dataframe thead th {\n",
              "        text-align: right;\n",
              "    }\n",
              "</style>\n",
              "<table border=\"1\" class=\"dataframe\">\n",
              "  <thead>\n",
              "    <tr style=\"text-align: right;\">\n",
              "      <th></th>\n",
              "      <th>message</th>\n",
              "      <th>label</th>\n",
              "    </tr>\n",
              "  </thead>\n",
              "  <tbody>\n",
              "    <tr>\n",
              "      <th>0</th>\n",
              "      <td>just have a real good i miss him so</td>\n",
              "      <td>0</td>\n",
              "    </tr>\n",
              "    <tr>\n",
              "      <th>1</th>\n",
              "      <td>be read manga</td>\n",
              "      <td>0</td>\n",
              "    </tr>\n",
              "    <tr>\n",
              "      <th>2</th>\n",
              "      <td></td>\n",
              "      <td>0</td>\n",
              "    </tr>\n",
              "    <tr>\n",
              "      <th>3</th>\n",
              "      <td>Need to send to my accountant I even refer to ...</td>\n",
              "      <td>0</td>\n",
              "    </tr>\n",
              "    <tr>\n",
              "      <th>4</th>\n",
              "      <td>ADD ME ON</td>\n",
              "      <td>0</td>\n",
              "    </tr>\n",
              "    <tr>\n",
              "      <th>...</th>\n",
              "      <td>...</td>\n",
              "      <td>...</td>\n",
              "    </tr>\n",
              "    <tr>\n",
              "      <th>10309</th>\n",
              "      <td>No Depression by G Herbo be my mood from now d...</td>\n",
              "      <td>1</td>\n",
              "    </tr>\n",
              "    <tr>\n",
              "      <th>10310</th>\n",
              "      <td>What do you do when depression succumb the bra...</td>\n",
              "      <td>1</td>\n",
              "    </tr>\n",
              "    <tr>\n",
              "      <th>10311</th>\n",
              "      <td>Ketamine Nasal Spray Shows Promise Against Sui...</td>\n",
              "      <td>1</td>\n",
              "    </tr>\n",
              "    <tr>\n",
              "      <th>10312</th>\n",
              "      <td>dont mistake a bad day with everyone have</td>\n",
              "      <td>1</td>\n",
              "    </tr>\n",
              "    <tr>\n",
              "      <th>10313</th>\n",
              "      <td></td>\n",
              "      <td>1</td>\n",
              "    </tr>\n",
              "  </tbody>\n",
              "</table>\n",
              "<p>10314 rows × 2 columns</p>\n",
              "</div>"
            ],
            "text/plain": [
              "                                                 message  label\n",
              "0                    just have a real good i miss him so      0\n",
              "1                                          be read manga      0\n",
              "2                                                             0\n",
              "3      Need to send to my accountant I even refer to ...      0\n",
              "4                                              ADD ME ON      0\n",
              "...                                                  ...    ...\n",
              "10309  No Depression by G Herbo be my mood from now d...      1\n",
              "10310  What do you do when depression succumb the bra...      1\n",
              "10311  Ketamine Nasal Spray Shows Promise Against Sui...      1\n",
              "10312          dont mistake a bad day with everyone have      1\n",
              "10313                                                         1\n",
              "\n",
              "[10314 rows x 2 columns]"
            ]
          },
          "metadata": {},
          "execution_count": 7
        }
      ]
    },
    {
      "cell_type": "code",
      "metadata": {
        "id": "q5-o3mw1rXu-"
      },
      "source": [
        "df['Sentence_len'] = df['message'].apply(lambda x:len(str(x).split())) \n",
        "d = df['Sentence_len'] >0\n",
        "df = df[d]"
      ],
      "execution_count": null,
      "outputs": []
    },
    {
      "cell_type": "code",
      "metadata": {
        "colab": {
          "base_uri": "https://localhost:8080/",
          "height": 417
        },
        "id": "ZUi_2sxqKE8n",
        "outputId": "f8d4f946-3666-43f9-bee9-aab136be792f"
      },
      "source": [
        "df"
      ],
      "execution_count": null,
      "outputs": [
        {
          "output_type": "execute_result",
          "data": {
            "text/html": [
              "<div>\n",
              "<style scoped>\n",
              "    .dataframe tbody tr th:only-of-type {\n",
              "        vertical-align: middle;\n",
              "    }\n",
              "\n",
              "    .dataframe tbody tr th {\n",
              "        vertical-align: top;\n",
              "    }\n",
              "\n",
              "    .dataframe thead th {\n",
              "        text-align: right;\n",
              "    }\n",
              "</style>\n",
              "<table border=\"1\" class=\"dataframe\">\n",
              "  <thead>\n",
              "    <tr style=\"text-align: right;\">\n",
              "      <th></th>\n",
              "      <th>message</th>\n",
              "      <th>label</th>\n",
              "      <th>Sentence_len</th>\n",
              "    </tr>\n",
              "  </thead>\n",
              "  <tbody>\n",
              "    <tr>\n",
              "      <th>0</th>\n",
              "      <td>just have a real good i miss him so</td>\n",
              "      <td>0</td>\n",
              "      <td>9</td>\n",
              "    </tr>\n",
              "    <tr>\n",
              "      <th>1</th>\n",
              "      <td>be read manga</td>\n",
              "      <td>0</td>\n",
              "      <td>3</td>\n",
              "    </tr>\n",
              "    <tr>\n",
              "      <th>3</th>\n",
              "      <td>Need to send to my accountant I even refer to ...</td>\n",
              "      <td>0</td>\n",
              "      <td>14</td>\n",
              "    </tr>\n",
              "    <tr>\n",
              "      <th>4</th>\n",
              "      <td>ADD ME ON</td>\n",
              "      <td>0</td>\n",
              "      <td>3</td>\n",
              "    </tr>\n",
              "    <tr>\n",
              "      <th>5</th>\n",
              "      <td>so good time tonight though</td>\n",
              "      <td>0</td>\n",
              "      <td>5</td>\n",
              "    </tr>\n",
              "    <tr>\n",
              "      <th>...</th>\n",
              "      <td>...</td>\n",
              "      <td>...</td>\n",
              "      <td>...</td>\n",
              "    </tr>\n",
              "    <tr>\n",
              "      <th>10308</th>\n",
              "      <td>Many sufferers of depression they feel nothing...</td>\n",
              "      <td>1</td>\n",
              "      <td>13</td>\n",
              "    </tr>\n",
              "    <tr>\n",
              "      <th>10309</th>\n",
              "      <td>No Depression by G Herbo be my mood from now d...</td>\n",
              "      <td>1</td>\n",
              "      <td>17</td>\n",
              "    </tr>\n",
              "    <tr>\n",
              "      <th>10310</th>\n",
              "      <td>What do you do when depression succumb the bra...</td>\n",
              "      <td>1</td>\n",
              "      <td>16</td>\n",
              "    </tr>\n",
              "    <tr>\n",
              "      <th>10311</th>\n",
              "      <td>Ketamine Nasal Spray Shows Promise Against Sui...</td>\n",
              "      <td>1</td>\n",
              "      <td>7</td>\n",
              "    </tr>\n",
              "    <tr>\n",
              "      <th>10312</th>\n",
              "      <td>dont mistake a bad day with everyone have</td>\n",
              "      <td>1</td>\n",
              "      <td>8</td>\n",
              "    </tr>\n",
              "  </tbody>\n",
              "</table>\n",
              "<p>10204 rows × 3 columns</p>\n",
              "</div>"
            ],
            "text/plain": [
              "                                                 message  label  Sentence_len\n",
              "0                    just have a real good i miss him so      0             9\n",
              "1                                          be read manga      0             3\n",
              "3      Need to send to my accountant I even refer to ...      0            14\n",
              "4                                              ADD ME ON      0             3\n",
              "5                            so good time tonight though      0             5\n",
              "...                                                  ...    ...           ...\n",
              "10308  Many sufferers of depression they feel nothing...      1            13\n",
              "10309  No Depression by G Herbo be my mood from now d...      1            17\n",
              "10310  What do you do when depression succumb the bra...      1            16\n",
              "10311  Ketamine Nasal Spray Shows Promise Against Sui...      1             7\n",
              "10312          dont mistake a bad day with everyone have      1             8\n",
              "\n",
              "[10204 rows x 3 columns]"
            ]
          },
          "metadata": {},
          "execution_count": 9
        }
      ]
    },
    {
      "cell_type": "code",
      "metadata": {
        "colab": {
          "base_uri": "https://localhost:8080/"
        },
        "id": "3xOxGlIFt_kP",
        "outputId": "fafc9629-3dc5-413a-90dc-5a2c4121efb9"
      },
      "source": [
        "max_sentence_length  = df['Sentence_len'].max()\n",
        "print('Max Sentence Length: ',max_sentence_length)"
      ],
      "execution_count": null,
      "outputs": [
        {
          "output_type": "stream",
          "name": "stdout",
          "text": [
            "Max Sentence Length:  57\n"
          ]
        }
      ]
    },
    {
      "cell_type": "code",
      "metadata": {
        "id": "oxvtS-u0KYgY"
      },
      "source": [
        "from collections import Counter\n",
        "\n",
        "count = Counter()\n",
        "for i in df.message:\n",
        "  temp = i.split()\n",
        "  for j in temp:\n",
        "    count[j] += 1"
      ],
      "execution_count": null,
      "outputs": []
    },
    {
      "cell_type": "code",
      "metadata": {
        "colab": {
          "base_uri": "https://localhost:8080/"
        },
        "id": "t_dtlaj1KlKA",
        "outputId": "3c02d519-1aa7-469d-fc4a-cb1facae068e"
      },
      "source": [
        "num_words = len(count)\n",
        "print('num_words: ',num_words)"
      ],
      "execution_count": null,
      "outputs": [
        {
          "output_type": "stream",
          "name": "stdout",
          "text": [
            "num_words:  12996\n"
          ]
        }
      ]
    },
    {
      "cell_type": "code",
      "metadata": {
        "id": "qdnEcE80vU3D"
      },
      "source": [
        "from sklearn.model_selection import train_test_split\n",
        "x = df['message']\n",
        "y = df['label']\n",
        "\n",
        "train_x,test_x,train_y,test_y = train_test_split(x, y, stratify=y,test_size=0.30,random_state=1)"
      ],
      "execution_count": null,
      "outputs": []
    },
    {
      "cell_type": "code",
      "metadata": {
        "colab": {
          "base_uri": "https://localhost:8080/"
        },
        "id": "YiaC9qMgyKMP",
        "outputId": "65f9404c-5295-426c-916e-8ecc31fb8205"
      },
      "source": [
        "print(\"Train Samples = \",len(train_x))\n",
        "print(train_y.value_counts())\n",
        "\n",
        "print(\"Test Samples = \",len(test_x))\n",
        "print(test_y.value_counts())"
      ],
      "execution_count": null,
      "outputs": [
        {
          "output_type": "stream",
          "name": "stdout",
          "text": [
            "Train Samples =  7142\n",
            "0    5534\n",
            "1    1608\n",
            "Name: label, dtype: int64\n",
            "Test Samples =  3062\n",
            "0    2372\n",
            "1     690\n",
            "Name: label, dtype: int64\n"
          ]
        }
      ]
    },
    {
      "cell_type": "code",
      "metadata": {
        "id": "CRuzSK7YOxbd"
      },
      "source": [
        "from tensorflow.keras import preprocessing\n",
        "from tensorflow.keras.preprocessing.text import Tokenizer\n",
        "from tensorflow.keras.preprocessing.sequence import pad_sequences\n",
        "\n",
        "#num_words = 12853\n",
        "\n",
        "tokenizer = Tokenizer(num_words=num_words,oov_token=\"unk\")\n",
        "tokenizer.fit_on_texts(x)"
      ],
      "execution_count": null,
      "outputs": []
    },
    {
      "cell_type": "code",
      "metadata": {
        "colab": {
          "base_uri": "https://localhost:8080/"
        },
        "id": "Cv8X8w8iwygS",
        "outputId": "156d74e6-43c6-4950-b3db-efc58876960c"
      },
      "source": [
        "# Converting All Tweets to Tokens\n",
        "x_train = tokenizer.texts_to_sequences(train_x.tolist()) \n",
        "x_test  = tokenizer.texts_to_sequences(test_x.tolist()) \n",
        "\n",
        "# Padding All Data\n",
        "x_train = pad_sequences(x_train, padding='post', maxlen = max_sentence_length)\n",
        "x_test  = pad_sequences(x_test,  padding='post', maxlen = max_sentence_length)\n",
        "\n",
        "# Printing One Sentence\n",
        "print(x_train[0])"
      ],
      "execution_count": null,
      "outputs": [
        {
          "output_type": "stream",
          "name": "stdout",
          "text": [
            "[   3   45   83 1973   50   84 2253  713    6    6  182   10   48 2253\n",
            "    2   22   59   10 1634  790    6  271  177  885  153   32  596  624\n",
            "   51  153  384  216   19  233    5  764   53   18  112    0    0    0\n",
            "    0    0    0    0    0    0    0    0    0    0    0    0    0    0\n",
            "    0]\n"
          ]
        }
      ]
    },
    {
      "cell_type": "code",
      "metadata": {
        "id": "tvvf-qAdxUkS"
      },
      "source": [
        "from tensorflow.keras import regularizers\n",
        "import tensorflow as tf\n",
        "from tensorflow.keras import layers\n",
        "from tensorflow.keras import losses\n",
        "\n",
        "\n",
        "lr = 0.001\n",
        "max_features =20000\n",
        "embedding_dim = 128\n",
        "sequence_length = max_sentence_length\n",
        "\n",
        "model = tf.keras.Sequential()\n",
        "model.add(tf.keras.layers.Embedding(max_features +1, embedding_dim, input_length=sequence_length,\\\n",
        "                                    embeddings_regularizer = regularizers.l2(0.0005)))                                    \n",
        "\n",
        "model.add(tf.keras.layers.Conv1D(1000,3, activation='relu',\\\n",
        "                                 kernel_regularizer = regularizers.l2(0.0005),\\\n",
        "                                 bias_regularizer = regularizers.l2(0.0005)))                               \n",
        "model.add(tf.keras.layers.Conv1D(500,3, activation='relu',\\\n",
        "                                 kernel_regularizer = regularizers.l2(0.0005),\\\n",
        "                                 bias_regularizer = regularizers.l2(0.0005))) \n",
        "model.add(tf.keras.layers.Conv1D(200,3, activation='relu',\\\n",
        "                                 kernel_regularizer = regularizers.l2(0.0005),\\\n",
        "                                 bias_regularizer = regularizers.l2(0.0005))) \n",
        "\n",
        "model.add(tf.keras.layers.GlobalMaxPooling1D())\n",
        "\n",
        "model.add(tf.keras.layers.Dropout(0.5))\n",
        "\n",
        "model.add(tf.keras.layers.Dense(2, activation='sigmoid',\\\n",
        "                                kernel_regularizer=regularizers.l2(0.001),\\\n",
        "                                bias_regularizer=regularizers.l2(0.001),))\n"
      ],
      "execution_count": null,
      "outputs": []
    },
    {
      "cell_type": "code",
      "metadata": {
        "colab": {
          "base_uri": "https://localhost:8080/"
        },
        "id": "ybDwk4gVYj5G",
        "outputId": "8c0674fe-a411-4f2c-8ab9-c55705d2aff8"
      },
      "source": [
        "model.summary()"
      ],
      "execution_count": null,
      "outputs": [
        {
          "output_type": "stream",
          "name": "stdout",
          "text": [
            "Model: \"sequential\"\n",
            "_________________________________________________________________\n",
            "Layer (type)                 Output Shape              Param #   \n",
            "=================================================================\n",
            "embedding (Embedding)        (None, 57, 128)           2560128   \n",
            "_________________________________________________________________\n",
            "conv1d (Conv1D)              (None, 55, 1024)          394240    \n",
            "_________________________________________________________________\n",
            "conv1d_1 (Conv1D)            (None, 53, 512)           1573376   \n",
            "_________________________________________________________________\n",
            "conv1d_2 (Conv1D)            (None, 51, 256)           393472    \n",
            "_________________________________________________________________\n",
            "global_max_pooling1d (Global (None, 256)               0         \n",
            "_________________________________________________________________\n",
            "dropout (Dropout)            (None, 256)               0         \n",
            "_________________________________________________________________\n",
            "dense (Dense)                (None, 1)                 257       \n",
            "=================================================================\n",
            "Total params: 4,921,473\n",
            "Trainable params: 4,921,473\n",
            "Non-trainable params: 0\n",
            "_________________________________________________________________\n"
          ]
        }
      ]
    },
    {
      "cell_type": "code",
      "metadata": {
        "id": "Hbny6CZJYnKt"
      },
      "source": [
        "model.compile(loss=tf.keras.losses.BinaryCrossentropy(), \n",
        "              optimizer = tf.keras.optimizers.Adam(learning_rate = lr),\n",
        "              metrics=['TruePositives','TrueNegatives','FalsePositives','FalseNegatives','accuracy',tf.keras.metrics.Precision(),tf.keras.metrics.Recall()])"
      ],
      "execution_count": null,
      "outputs": []
    },
    {
      "cell_type": "code",
      "metadata": {
        "colab": {
          "base_uri": "https://localhost:8080/"
        },
        "id": "bLQSTX-Wx91h",
        "outputId": "e39d28db-8205-4718-8c09-d7362ea66976"
      },
      "source": [
        "epochs = 5\n",
        "batch = 128\n",
        "history = model.fit(x_train, train_y, epochs=epochs, verbose=1,\n",
        "                    batch_size=batch,\n",
        "                    validation_data = (x_test,test_y))"
      ],
      "execution_count": null,
      "outputs": [
        {
          "output_type": "stream",
          "name": "stdout",
          "text": [
            "Epoch 1/5\n",
            "56/56 [==============================] - 148s 3s/step - loss: 1.0351 - true_positives: 10.0000 - true_negatives: 5515.0000 - false_positives: 19.0000 - false_negatives: 1598.0000 - accuracy: 0.7736 - precision: 0.3448 - recall: 0.0062 - val_loss: 0.5473 - val_true_positives: 19.0000 - val_true_negatives: 2372.0000 - val_false_positives: 0.0000e+00 - val_false_negatives: 671.0000 - val_accuracy: 0.7809 - val_precision: 1.0000 - val_recall: 0.0275\n",
            "Epoch 2/5\n",
            "56/56 [==============================] - 144s 3s/step - loss: 0.2847 - true_positives: 1161.0000 - true_negatives: 5455.0000 - false_positives: 79.0000 - false_negatives: 447.0000 - accuracy: 0.9264 - precision: 0.9363 - recall: 0.7220 - val_loss: 0.2469 - val_true_positives: 536.0000 - val_true_negatives: 2354.0000 - val_false_positives: 18.0000 - val_false_negatives: 154.0000 - val_accuracy: 0.9438 - val_precision: 0.9675 - val_recall: 0.7768\n",
            "Epoch 3/5\n",
            "56/56 [==============================] - 144s 3s/step - loss: 0.1586 - true_positives: 1444.0000 - true_negatives: 5490.0000 - false_positives: 44.0000 - false_negatives: 164.0000 - accuracy: 0.9709 - precision: 0.9704 - recall: 0.8980 - val_loss: 0.2290 - val_true_positives: 568.0000 - val_true_negatives: 2323.0000 - val_false_positives: 49.0000 - val_false_negatives: 122.0000 - val_accuracy: 0.9442 - val_precision: 0.9206 - val_recall: 0.8232\n",
            "Epoch 4/5\n",
            "56/56 [==============================] - 143s 3s/step - loss: 0.1190 - true_positives: 1503.0000 - true_negatives: 5502.0000 - false_positives: 32.0000 - false_negatives: 105.0000 - accuracy: 0.9808 - precision: 0.9792 - recall: 0.9347 - val_loss: 0.2307 - val_true_positives: 563.0000 - val_true_negatives: 2344.0000 - val_false_positives: 28.0000 - val_false_negatives: 127.0000 - val_accuracy: 0.9494 - val_precision: 0.9526 - val_recall: 0.8159\n",
            "Epoch 5/5\n",
            "56/56 [==============================] - 144s 3s/step - loss: 0.0944 - true_positives: 1551.0000 - true_negatives: 5515.0000 - false_positives: 19.0000 - false_negatives: 57.0000 - accuracy: 0.9894 - precision: 0.9879 - recall: 0.9646 - val_loss: 0.2582 - val_true_positives: 559.0000 - val_true_negatives: 2332.0000 - val_false_positives: 40.0000 - val_false_negatives: 131.0000 - val_accuracy: 0.9442 - val_precision: 0.9332 - val_recall: 0.8101\n"
          ]
        }
      ]
    },
    {
      "cell_type": "code",
      "metadata": {
        "id": "XdlGXcY3aZPM"
      },
      "source": [
        "from sklearn.metrics import accuracy_score\n",
        "from sklearn.metrics import precision_score\n",
        "from sklearn.metrics import recall_score\n",
        "from sklearn.metrics import f1_score\n",
        "from sklearn.metrics import cohen_kappa_score\n",
        "from sklearn.metrics import roc_auc_score\n",
        "from sklearn.metrics import confusion_matrix\n",
        "\n",
        "from google.colab import files\n",
        "import matplotlib.pyplot as plt\n",
        "import seaborn as sn"
      ],
      "execution_count": 80,
      "outputs": []
    },
    {
      "cell_type": "code",
      "metadata": {
        "colab": {
          "base_uri": "https://localhost:8080/"
        },
        "id": "OQwPOLTuPPPP",
        "outputId": "41fb4a1c-a51d-433e-f82d-ea75a4cdb2ee"
      },
      "source": [
        "# accuracy: (tp + tn) / (p + n)\n",
        "accuracy = history.history['accuracy']\n",
        "accuracy_val = history.history['val_accuracy']\n",
        "\n",
        "# precision tp / (tp + fp)\n",
        "precision = history.history['precision']\n",
        "precision_val = history.history['val_precision']\n",
        "\n",
        "# recall: tp / (tp + fn)\n",
        "recall = history.history['recall']\n",
        "recall_val = history.history['val_recall']\n",
        "\n",
        "\n",
        "loss = history.history['loss']\n",
        "loss_val = history.history['val_loss']\n",
        "\n",
        "# f1: 2 tp / (2 tp + fp + fn)\n",
        "f1 = []\n",
        "for p,r in zip(precision, recall):\n",
        "  temp = 2 * ((p*r) + (p+r))\n",
        "  f1.append(temp)\n",
        "epoch = [x for x in range(epochs+1)]\n",
        "\n",
        "\n",
        "f1_val = []\n",
        "for p,r in zip(precision_val, recall_val):\n",
        "  temp = 2 * ((p*r) + (p+r))\n",
        "  f1_val.append(temp)\n",
        "\n",
        "# confusion matrix\n",
        "matrix = np.asmatrix([[history.history['true_positives'][-1],history.history['false_positives'][-1]],\n",
        "         [history.history['false_negatives'][-1],history.history['true_negatives'][-1]]])\n",
        "print(matrix)"
      ],
      "execution_count": 82,
      "outputs": [
        {
          "output_type": "stream",
          "name": "stdout",
          "text": [
            "[[1551.   19.]\n",
            " [  57. 5515.]]\n"
          ]
        }
      ]
    },
    {
      "cell_type": "code",
      "metadata": {
        "colab": {
          "base_uri": "https://localhost:8080/",
          "height": 475
        },
        "id": "uMfoUkWWdlNc",
        "outputId": "25298583-7ba7-4752-8307-7bc7217fd76d"
      },
      "source": [
        "plt.rcParams[\"figure.figsize\"] = (8,5)\n",
        "plt.rcParams['figure.dpi'] = 99\n",
        "plt.plot(accuracy, label=' training data')\n",
        "plt.plot(accuracy_val, label='validation data)')\n",
        "plt.title('Accuracy Comparison')\n",
        "plt.ylabel('Accuracy')\n",
        "plt.xlabel('Epochs')\n",
        "plt.legend(loc=\"lower right\")\n",
        "plt.show()\n"
      ],
      "execution_count": 85,
      "outputs": [
        {
          "output_type": "display_data",
          "data": {
            "image/png": "[encoded data removed]",
            "text/plain": [
              "<Figure size 792x495 with 1 Axes>"
            ]
          },
          "metadata": {
            "needs_background": "light"
          }
        }
      ]
    },
    {
      "cell_type": "code",
      "metadata": {
        "colab": {
          "base_uri": "https://localhost:8080/",
          "height": 475
        },
        "id": "XVKlyIDOd8wo",
        "outputId": "5729e8e5-0724-43cb-a0f7-fea1622d3c14"
      },
      "source": [
        "plt.rcParams[\"figure.figsize\"] = (8,5)\n",
        "plt.rcParams['figure.dpi'] = 99\n",
        "plt.plot(precision, label=' training data')\n",
        "plt.plot(precision_val, label='validation data)')\n",
        "plt.title('Precision Comparison')\n",
        "plt.ylabel('Precision')\n",
        "plt.xlabel('Epochs')\n",
        "plt.legend(loc=\"lower right\")\n",
        "plt.show()\n"
      ],
      "execution_count": 86,
      "outputs": [
        {
          "output_type": "display_data",
          "data": {
            "image/png": "[encoded data removed]",
            "text/plain": [
              "<Figure size 792x495 with 1 Axes>"
            ]
          },
          "metadata": {
            "needs_background": "light"
          }
        }
      ]
    },
    {
      "cell_type": "code",
      "metadata": {
        "colab": {
          "base_uri": "https://localhost:8080/",
          "height": 475
        },
        "id": "dcBmqakfeQ5L",
        "outputId": "e6096688-ba02-463d-f17b-6874640f2954"
      },
      "source": [
        "plt.rcParams[\"figure.figsize\"] = (8,5)\n",
        "plt.rcParams['figure.dpi'] = 99\n",
        "plt.plot(recall, label=' training data')\n",
        "plt.plot(recall_val, label='validation data)')\n",
        "plt.title('Recall Comparison')\n",
        "plt.ylabel('Recall')\n",
        "plt.xlabel('Epochs')\n",
        "plt.legend(loc=\"lower right\")\n",
        "plt.show()\n"
      ],
      "execution_count": 87,
      "outputs": [
        {
          "output_type": "display_data",
          "data": {
            "image/png": "[encoded data removed]",
            "text/plain": [
              "<Figure size 792x495 with 1 Axes>"
            ]
          },
          "metadata": {
            "needs_background": "light"
          }
        }
      ]
    },
    {
      "cell_type": "code",
      "metadata": {
        "colab": {
          "base_uri": "https://localhost:8080/",
          "height": 475
        },
        "id": "4VGj0BeqeeFb",
        "outputId": "d340f3b9-0566-4322-ee74-9a6b412f3547"
      },
      "source": [
        "plt.rcParams[\"figure.figsize\"] = (8,5)\n",
        "plt.rcParams['figure.dpi'] = 99\n",
        "plt.plot(loss, label=' training data')\n",
        "plt.plot(loss_val, label='validation data)')\n",
        "plt.title('Loss Comparison')\n",
        "plt.ylabel('Loss value')\n",
        "plt.xlabel('Epochs')\n",
        "plt.legend(loc=\"upper right\")\n",
        "plt.show()"
      ],
      "execution_count": 88,
      "outputs": [
        {
          "output_type": "display_data",
          "data": {
            "image/png": "[encoded data removed]",
            "text/plain": [
              "<Figure size 792x495 with 1 Axes>"
            ]
          },
          "metadata": {
            "needs_background": "light"
          }
        }
      ]
    },
    {
      "cell_type": "code",
      "metadata": {
        "colab": {
          "base_uri": "https://localhost:8080/",
          "height": 492
        },
        "id": "4Ru0Td04o0PX",
        "outputId": "96a458c4-7db9-4c15-d3ca-e9fcb2d05805"
      },
      "source": [
        "plt.rcParams[\"figure.figsize\"] = (8,5)\n",
        "plt.rcParams['figure.dpi'] = 99\n",
        "plt.plot(f1,label=\"Training Data\")\n",
        "plt.plot(f1_val,label=\"Validation Data\")\n",
        "plt.title('F1 Score Comparison')\n",
        "plt.legend(loc=\"lower right\")\n",
        "plt.ylabel('F1 Score')\n",
        "plt.xlabel('Epochs')"
      ],
      "execution_count": 89,
      "outputs": [
        {
          "output_type": "execute_result",
          "data": {
            "text/plain": [
              "Text(0.5, 0, 'Epochs')"
            ]
          },
          "metadata": {},
          "execution_count": 89
        },
        {
          "output_type": "display_data",
          "data": {
            "image/png": "[encoded data removed]",
            "text/plain": [
              "<Figure size 792x495 with 1 Axes>"
            ]
          },
          "metadata": {
            "needs_background": "light"
          }
        }
      ]
    },
    {
      "cell_type": "code",
      "metadata": {
        "colab": {
          "base_uri": "https://localhost:8080/",
          "height": 343
        },
        "id": "cyBPbZ8hPX3J",
        "outputId": "8ce2853a-5073-4535-d161-8f80942cf052"
      },
      "source": [
        "plt.rcParams[\"figure.figsize\"] = (5,3)\n",
        "\n",
        "sn.heatmap(matrix, annot=True, annot_kws={\"size\": 12},cmap='Reds', fmt='g') \n",
        "plt.title('Confusion Matrix')\n",
        "plt.ylabel('Actual Class')\n",
        "plt.xlabel('Predicted Class')\n",
        "plt.savefig('Confusion_Matrix.png')\n",
        "plt.show()\n",
        "plt.savefig('cm.png')\n"
      ],
      "execution_count": 90,
      "outputs": [
        {
          "output_type": "display_data",
          "data": {
            "image/png": "[encoded data removed]",
            "text/plain": [
              "<Figure size 495x297 with 2 Axes>"
            ]
          },
          "metadata": {
            "needs_background": "light"
          }
        },
        {
          "output_type": "display_data",
          "data": {
            "text/plain": [
              "<Figure size 495x297 with 0 Axes>"
            ]
          },
          "metadata": {}
        }
      ]
    },
    {
      "cell_type": "code",
      "metadata": {
        "id": "4vQxAHSz8CV3"
      },
      "source": [
        "def predict_sentiment(text):\n",
        "\n",
        "  text = tokenizer.texts_to_sequences(text)\n",
        "  test_vector = pad_sequences(\n",
        "    text, maxlen = max_sentence_length, padding='post')\n",
        "  \n",
        "  predictions = model.predict(test_vector)\n",
        "  prediction = list(predictions.flatten())\n",
        " \n",
        "  if prediction[0] > 0.5:\n",
        "    print(f'{prediction[0]:0.3}: Negative Sentiment')\n",
        "    return 1\n",
        "  else:\n",
        "    print(f'{prediction[0]:0.3}: Positive Sentiment')\n",
        "    return 0"
      ],
      "execution_count": 56,
      "outputs": []
    },
    {
      "cell_type": "code",
      "metadata": {
        "colab": {
          "base_uri": "https://localhost:8080/"
        },
        "id": "9ZXYpHp-8IEW",
        "outputId": "cf56a210-2cb6-4d87-e920-bec6bf26913f"
      },
      "source": [
        "test= ['suffer from chronic depression']\n",
        "\n",
        "predict_sentiment(test)"
      ],
      "execution_count": 72,
      "outputs": [
        {
          "output_type": "stream",
          "name": "stdout",
          "text": [
            "1.0: Negative Sentiment\n"
          ]
        },
        {
          "output_type": "execute_result",
          "data": {
            "text/plain": [
              "1"
            ]
          },
          "metadata": {},
          "execution_count": 72
        }
      ]
    },
    {
      "cell_type": "code",
      "metadata": {
        "colab": {
          "base_uri": "https://localhost:8080/"
        },
        "id": "4QbV-u3Y9R-e",
        "outputId": "724cbf4e-28f7-4a82-8bb1-8f180f9423d1"
      },
      "source": [
        "test= ['Excellent cast, story line, performances']\n",
        "\n",
        "predict_sentiment(test)"
      ],
      "execution_count": 69,
      "outputs": [
        {
          "output_type": "stream",
          "name": "stdout",
          "text": [
            "0.00459: Positive Sentiment\n"
          ]
        },
        {
          "output_type": "execute_result",
          "data": {
            "text/plain": [
              "0"
            ]
          },
          "metadata": {},
          "execution_count": 69
        }
      ]
    }
  ]
}
